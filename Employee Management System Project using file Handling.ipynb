{
 "cells": [
  {
   "cell_type": "markdown",
   "id": "0ad3052a-aac6-41a4-8237-0ca9cb726201",
   "metadata": {},
   "source": [
    "## Employee Management System Project using Python"
   ]
  },
  {
   "cell_type": "code",
   "execution_count": 12,
   "id": "62150af2",
   "metadata": {},
   "outputs": [
    {
     "name": "stdout",
     "output_type": "stream",
     "text": [
      "\n",
      "Employee Management System\n",
      "1. Add Employee\n",
      "2. View Employees\n",
      "3. Search Employee\n",
      "4. Exit\n"
     ]
    },
    {
     "name": "stdin",
     "output_type": "stream",
     "text": [
      "Enter your choice (1-4):  1\n",
      "Enter How many You want to ADD>> 1\n",
      "Enter Employee ID>> 12\n",
      "Enter Employee Name>> Deepanshu\n",
      "Enter Employee Salary>> 1212121\n"
     ]
    },
    {
     "name": "stdout",
     "output_type": "stream",
     "text": [
      "Employee added successfully!\n",
      "\n",
      "\n",
      "Employee Management System\n",
      "1. Add Employee\n",
      "2. View Employees\n",
      "3. Search Employee\n",
      "4. Exit\n"
     ]
    },
    {
     "name": "stdin",
     "output_type": "stream",
     "text": [
      "Enter your choice (1-4):  2\n"
     ]
    },
    {
     "name": "stdout",
     "output_type": "stream",
     "text": [
      "Employee ID\tEmployee Name\tEmployee Salary\n",
      "--------------------------------------------------\n",
      "1\t\tDeepanshu\t\t243425354\n",
      "2\t\tAkash\t\t643453435\n",
      "12\t\tMuskan\t\t122123312\n",
      "Invalid data format in line: 12, Deepanshu, 12000129012, IT\n",
      "\n",
      "12\t\tdeepanshu\t\t1299\n",
      "12\t\tDeepanshu\t\t1212121\n",
      "\n",
      "Employee Management System\n",
      "1. Add Employee\n",
      "2. View Employees\n",
      "3. Search Employee\n",
      "4. Exit\n"
     ]
    },
    {
     "name": "stdin",
     "output_type": "stream",
     "text": [
      "Enter your choice (1-4):  4\n"
     ]
    },
    {
     "name": "stdout",
     "output_type": "stream",
     "text": [
      "Exiting the Employee Management System. Goodbye!\n"
     ]
    }
   ],
   "source": [
    "from colorama import Fore, Back, Style, init\n",
    "\n",
    "def Add():\n",
    "    how_many = int(input(\"Enter How many You want to ADD>>\"))\n",
    "    i=1\n",
    "    while i<=how_many:\n",
    "        emp_id = input(\"Enter Employee ID>>\")\n",
    "        emp_name = input(\"Enter Employee Name>>\")\n",
    "        emp_salary = input(\"Enter Employee Salary>>\")\n",
    "        with open(\"employees.txt\",\"a\") as file:\n",
    "            # Remove spaces after commas when writing\n",
    "            file.write(f\"{emp_id.strip()},{emp_name.strip()},{emp_salary.strip()}\\n\")\n",
    "        print(f\"{Fore.GREEN}Employee added successfully!\\n{Style.RESET_ALL}\")\n",
    "        i+=1\n",
    "\n",
    "def Display():\n",
    "    try:\n",
    "        with open(\"employees.txt\", \"r\") as file:\n",
    "            print(\"Employee ID\\tEmployee Name\\tEmployee Salary\")\n",
    "            print(\"--------------------------------------------------\")\n",
    "            for line in file:\n",
    "                # Strip whitespace and split without spaces\n",
    "                parts = [part.strip() for part in line.strip().split(',')]\n",
    "                if len(parts) == 3:  # Make sure we have exactly 3 parts\n",
    "                    emp_id, emp_name, emp_salary = parts\n",
    "                    print(f\"{emp_id}\\t\\t{emp_name}\\t\\t{emp_salary}\")\n",
    "                else:\n",
    "                    print(f\"{Fore.RED}Invalid data format in line: {line}{Style.RESET_ALL}\")\n",
    "    except FileNotFoundError:\n",
    "        print(f\"{Fore.RED}No employees found.{Style.RESET_ALL}\")\n",
    "        \n",
    "def Search():\n",
    "    emp_id = input(\"Enter Employee ID to search: \")\n",
    "    try:\n",
    "        with open(\"employees.txt\", \"r\") as file:\n",
    "            for line in file:\n",
    "                # Strip whitespace and split without spaces\n",
    "                parts = [part.strip() for part in line.strip().split(',')]\n",
    "                if len(parts) == 3:  # Make sure we have exactly 3 parts\n",
    "                    current_emp_id, emp_name, emp_salary = parts\n",
    "                    if emp_id == current_emp_id:\n",
    "                        print(f\"Employee found: {emp_name}, Salary: {emp_salary}\")\n",
    "                        return\n",
    "            print(f\"{Fore.RED}Employee not found.{Style.RESET_ALL}\")\n",
    "    except FileNotFoundError:\n",
    "        print(f\"{Fore.RED}No employees found.{Style.RESET_ALL}\")\n",
    "        \n",
    "def main():\n",
    "    while True:\n",
    "        print(\"\\nEmployee Management System\")\n",
    "        print(\"1. Add Employee\")\n",
    "        print(\"2. View Employees\")\n",
    "        print(\"3. Search Employee\")\n",
    "        print(\"4. Exit\")\n",
    "        choice = input(\"Enter your choice (1-4): \")\n",
    "        if choice == '1':\n",
    "            Add()\n",
    "        elif choice == '2':\n",
    "            Display()\n",
    "        elif choice == '3':\n",
    "            Search()\n",
    "        elif choice == '4':\n",
    "            print(\"Exiting the Employee Management System. Goodbye!\")\n",
    "            break\n",
    "        else:\n",
    "            print(\"Invalid choice. Please enter a valid option (1-4).\")\n",
    "\n",
    "if __name__ == \"__main__\":\n",
    "    init()  # Initialize colorama\n",
    "    main()"
   ]
  },
  {
   "cell_type": "code",
   "execution_count": null,
   "id": "ee83fb03-4117-42ed-ac6f-7a7cf2e563ed",
   "metadata": {},
   "outputs": [],
   "source": []
  }
 ],
 "metadata": {
  "kernelspec": {
   "display_name": "Python 3 (ipykernel)",
   "language": "python",
   "name": "python3"
  },
  "language_info": {
   "codemirror_mode": {
    "name": "ipython",
    "version": 3
   },
   "file_extension": ".py",
   "mimetype": "text/x-python",
   "name": "python",
   "nbconvert_exporter": "python",
   "pygments_lexer": "ipython3",
   "version": "3.11.7"
  }
 },
 "nbformat": 4,
 "nbformat_minor": 5
}
